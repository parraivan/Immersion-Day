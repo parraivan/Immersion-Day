{
 "cells": [
  {
   "cell_type": "markdown",
   "metadata": {},
   "source": [
    "## Amazon Polly"
   ]
  },
  {
   "cell_type": "code",
   "execution_count": null,
   "metadata": {},
   "outputs": [],
   "source": [
    "import boto3\n",
    "import uuid\n",
    "import subprocess\n",
    "import json\n",
    "import requests\n",
    "import pandas\n",
    "\n",
    "from contextlib import closing\n",
    "from IPython.display import display, Markdown, HTML"
   ]
  },
  {
   "cell_type": "code",
   "execution_count": null,
   "metadata": {},
   "outputs": [],
   "source": [
    "region = \"<region>\""
   ]
  },
  {
   "cell_type": "code",
   "execution_count": null,
   "metadata": {},
   "outputs": [],
   "source": [
    "def rand():\n",
    "    return str(uuid.uuid4())[:8]"
   ]
  },
  {
   "cell_type": "code",
   "execution_count": null,
   "metadata": {},
   "outputs": [],
   "source": [
    "def get(url):\n",
    "    r = requests.get(url)\n",
    "    return r.json()"
   ]
  },
  {
   "cell_type": "markdown",
   "metadata": {},
   "source": [
    "### Conversión de texto a audio con Amazon Polly - polly.synthesize_speech( )"
   ]
  },
  {
   "cell_type": "markdown",
   "metadata": {},
   "source": [
    "http://boto3.readthedocs.io/en/latest/reference/services/polly.html#Polly.Client.synthesize_speech"
   ]
  },
  {
   "cell_type": "markdown",
   "metadata": {},
   "source": [
    "**Available voices** https://docs.aws.amazon.com/polly/latest/dg/voicelist.html"
   ]
  },
  {
   "cell_type": "code",
   "execution_count": null,
   "metadata": {},
   "outputs": [],
   "source": [
    "def synthesize_speech(text, voice):\n",
    "    polly = boto3.client('polly', region)\n",
    "    response = polly.synthesize_speech(    \n",
    "        OutputFormat='mp3',\n",
    "        Text=text,\n",
    "        TextType='text',\n",
    "        VoiceId=voice\n",
    "    )\n",
    "    \n",
    "    if \"AudioStream\" in response:\n",
    "        with closing(response[\"AudioStream\"]) as stream:\n",
    "            output = \"polly-{}.mp3\".format(rand())\n",
    "\n",
    "            try:\n",
    "                with open(output, \"wb\") as file:\n",
    "                    file.write(stream.read())\n",
    "            except IOError as error:            \n",
    "                print(error)\n",
    "                sys.exit(-1)\n",
    "    \n",
    "    display(text)\n",
    "    display(HTML(\"<audio controls><source src={} type='audio/mpeg'></audio>\".format(output)))\n",
    "            \n",
    "\n",
    "synthesize_speech(\"<text>\", \"<voice>\")\n"
   ]
  },
  {
   "cell_type": "markdown",
   "metadata": {},
   "source": [
    "## Amazon Transcribe"
   ]
  },
  {
   "cell_type": "markdown",
   "metadata": {},
   "source": [
    "### Conversión de audio a texto con Amazon Transcribe - transcribe.start_transcription_job( )"
   ]
  },
  {
   "cell_type": "markdown",
   "metadata": {},
   "source": [
    "http://boto3.readthedocs.io/en/latest/reference/services/transcribe.html#TranscribeService.Client.start_transcription_job"
   ]
  },
  {
   "cell_type": "code",
   "execution_count": null,
   "metadata": {},
   "outputs": [],
   "source": [
    "transcribe = boto3.client('transcribe',region)\n",
    "\n",
    "def start_transcription_job(uri, settings={}):    \n",
    "    \n",
    "    job_name = 'Transcribe-Lab-{}'.format(rand())\n",
    "    response = transcribe.start_transcription_job(\n",
    "        TranscriptionJobName=job_name,\n",
    "        LanguageCode='es-US',    \n",
    "        MediaFormat='mp3',\n",
    "        Media={\n",
    "            'MediaFileUri': uri\n",
    "        },\n",
    "        Settings=settings\n",
    "    )\n",
    "    \n",
    "    return job_name, response['TranscriptionJob']\n",
    "\n",
    "job_name, response = start_transcription_job(\"https://s3-<region>.amazonaws.com/<bucket>/<key>\")\n",
    "display(response)"
   ]
  },
  {
   "cell_type": "code",
   "execution_count": null,
   "metadata": {},
   "outputs": [],
   "source": [
    "response = transcribe.get_transcription_job(\n",
    "    TranscriptionJobName=job_name\n",
    ")\n",
    "\n",
    "response['TranscriptionJob']"
   ]
  },
  {
   "cell_type": "code",
   "execution_count": null,
   "metadata": {},
   "outputs": [],
   "source": [
    "get(response['TranscriptionJob']['Transcript']['TranscriptFileUri'])"
   ]
  },
  {
   "cell_type": "markdown",
   "metadata": {},
   "source": [
    "## Amazon Comprehend"
   ]
  },
  {
   "cell_type": "code",
   "execution_count": null,
   "metadata": {},
   "outputs": [],
   "source": [
    "comprehend = boto3.client('comprehend',region)"
   ]
  },
  {
   "cell_type": "markdown",
   "metadata": {},
   "source": [
    "### Detección del idioma que predomina en el texto con Amazon Comprehend - detect_dominant_language( )"
   ]
  },
  {
   "cell_type": "markdown",
   "metadata": {},
   "source": [
    "http://boto3.readthedocs.io/en/latest/reference/services/comprehend.html#Comprehend.Client.detect_dominant_language"
   ]
  },
  {
   "cell_type": "code",
   "execution_count": null,
   "metadata": {},
   "outputs": [],
   "source": [
    "def detect_dominant_language(text):\n",
    "    response = comprehend.detect_dominant_language(\n",
    "        Text=text\n",
    "    )\n",
    "    return response['Languages'][0]['LanguageCode']"
   ]
  },
  {
   "cell_type": "code",
   "execution_count": null,
   "metadata": {},
   "outputs": [],
   "source": [
    "LANG = detect_dominant_language(\"<text>\")\n",
    "\n",
    "display(Markdown(\"**El idioma detectado es: **{}\".format(LANG)))"
   ]
  },
  {
   "cell_type": "markdown",
   "metadata": {},
   "source": [
    "### Detección de las principales frases o palabras en el texto con Amazon Comprehend - detect_key_phrases( )"
   ]
  },
  {
   "cell_type": "markdown",
   "metadata": {},
   "source": [
    "http://boto3.readthedocs.io/en/latest/reference/services/comprehend.html#Comprehend.Client.detect_key_phrases"
   ]
  },
  {
   "cell_type": "code",
   "execution_count": null,
   "metadata": {},
   "outputs": [],
   "source": [
    "def detect_key_phrases(text, lang=None):\n",
    "    if lang == None:\n",
    "        lang = detect_dominant_language(text)\n",
    "        \n",
    "    response = comprehend.detect_key_phrases(\n",
    "        Text=text,\n",
    "        LanguageCode=lang\n",
    "    )\n",
    "    \n",
    "    return response['KeyPhrases']"
   ]
  },
  {
   "cell_type": "code",
   "execution_count": null,
   "metadata": {},
   "outputs": [],
   "source": [
    "response = detect_key_phrases(\"<text>\")\n",
    "\n",
    "display(pandas.DataFrame.from_dict(response))"
   ]
  },
  {
   "cell_type": "markdown",
   "metadata": {},
   "source": [
    "### Detección de entidades en el texto con Amazon Comprehend - detect_entities( )"
   ]
  },
  {
   "cell_type": "markdown",
   "metadata": {},
   "source": [
    "http://boto3.readthedocs.io/en/latest/reference/services/comprehend.html#Comprehend.Client.detect_entities"
   ]
  },
  {
   "cell_type": "code",
   "execution_count": null,
   "metadata": {},
   "outputs": [],
   "source": [
    "def detect_entities(text, lang=None):\n",
    "    if lang == None:\n",
    "        lang = detect_dominant_language(text)\n",
    "        \n",
    "    response = comprehend.detect_entities(\n",
    "        Text=text,\n",
    "        LanguageCode=lang\n",
    "    )\n",
    "    \n",
    "    return response['Entities']"
   ]
  },
  {
   "cell_type": "code",
   "execution_count": null,
   "metadata": {},
   "outputs": [],
   "source": [
    "response = detect_entities(\"<text>\")\n",
    "\n",
    "display(pandas.DataFrame.from_dict(response))"
   ]
  },
  {
   "cell_type": "markdown",
   "metadata": {},
   "source": [
    "### Detección del sentimiento en el texto con Amazon Comprehend - detect_sentiment( )"
   ]
  },
  {
   "cell_type": "markdown",
   "metadata": {},
   "source": [
    "http://boto3.readthedocs.io/en/latest/reference/services/comprehend.html#Comprehend.Client.detect_sentiment"
   ]
  },
  {
   "cell_type": "code",
   "execution_count": null,
   "metadata": {},
   "outputs": [],
   "source": [
    "def detect_sentiment(text, lang=None):\n",
    "    if lang == None:\n",
    "        lang = detect_dominant_language(text)\n",
    "        \n",
    "    response = comprehend.detect_sentiment(\n",
    "        Text=text,\n",
    "        LanguageCode=lang\n",
    "    )\n",
    "    \n",
    "    return response['Sentiment'], response['SentimentScore']"
   ]
  },
  {
   "cell_type": "code",
   "execution_count": null,
   "metadata": {},
   "outputs": [],
   "source": [
    "sentiment, scores = detect_sentiment(\"<text>\")\n",
    "\n",
    "display(Markdown(\"**El sentimiento detectado es:** {}\".format(sentiment)))\n",
    "display(Markdown(\"**El score de todos los sentimientos es:**\"))\n",
    "for score in scores:\n",
    "    display(Markdown(\"&nbsp;&nbsp;&nbsp;**{0}:** {1}\".format(score, scores[score]))) "
   ]
  },
  {
   "cell_type": "markdown",
   "metadata": {},
   "source": [
    "## Amazon Translate"
   ]
  },
  {
   "cell_type": "code",
   "execution_count": null,
   "metadata": {},
   "outputs": [],
   "source": [
    "translate = boto3.client('translate')"
   ]
  },
  {
   "cell_type": "markdown",
   "metadata": {},
   "source": [
    "### Traducción de texto con Amazon Translate - translate_text( ) "
   ]
  },
  {
   "cell_type": "markdown",
   "metadata": {},
   "source": [
    "http://boto3.readthedocs.io/en/latest/reference/services/translate.html#Translate.Client.translate_text"
   ]
  },
  {
   "cell_type": "code",
   "execution_count": null,
   "metadata": {},
   "outputs": [],
   "source": [
    "def translate_text(text,source,target):\n",
    "    response = translate.translate_text(\n",
    "        Text=text,\n",
    "        SourceLanguageCode=source,\n",
    "        TargetLanguageCode=target\n",
    "    )\n",
    "    return response['TranslatedText']"
   ]
  },
  {
   "cell_type": "code",
   "execution_count": null,
   "metadata": {},
   "outputs": [],
   "source": [
    "display(translate_text(\"<text>\",\"es\",\"en\"))"
   ]
  },
  {
   "cell_type": "code",
   "execution_count": null,
   "metadata": {},
   "outputs": [],
   "source": []
  }
 ],
 "metadata": {
  "kernelspec": {
   "display_name": "conda_python3",
   "language": "python",
   "name": "conda_python3"
  },
  "language_info": {
   "codemirror_mode": {
    "name": "ipython",
    "version": 3
   },
   "file_extension": ".py",
   "mimetype": "text/x-python",
   "name": "python",
   "nbconvert_exporter": "python",
   "pygments_lexer": "ipython3",
   "version": "3.6.4"
  }
 },
 "nbformat": 4,
 "nbformat_minor": 2
}
