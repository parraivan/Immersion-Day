{
 "cells": [
  {
   "cell_type": "markdown",
   "metadata": {},
   "source": [
    "# Amazon Rekognition"
   ]
  },
  {
   "cell_type": "markdown",
   "metadata": {},
   "source": [
    "**Documentación del api de Rekognition:**\n",
    "    http://boto3.readthedocs.io/en/latest/reference/services/rekognition.html#client"
   ]
  },
  {
   "cell_type": "code",
   "execution_count": null,
   "metadata": {},
   "outputs": [],
   "source": [
    "import boto3\n",
    "import subprocess\n",
    "import uuid\n",
    "import random\n",
    "import base64\n",
    "import os\n",
    "\n",
    "from IPython.display import Image, display, Markdown, HTML\n",
    "from PIL import Image as PILimage, ImageDraw\n"
   ]
  },
  {
   "cell_type": "code",
   "execution_count": null,
   "metadata": {},
   "outputs": [],
   "source": [
    "region = boto3.Session().region_name\n",
    "rekognition = boto3.client('rekognition', region)"
   ]
  },
  {
   "cell_type": "markdown",
   "metadata": {},
   "source": [
    "### Funciones de utilería para los laboratorios"
   ]
  },
  {
   "cell_type": "code",
   "execution_count": null,
   "metadata": {},
   "outputs": [],
   "source": [
    "def load_image(file_name):\n",
    "    with open(file_name, \"rb\") as imageFile:\n",
    "      f = imageFile.read()\n",
    "      return bytearray(f)"
   ]
  },
  {
   "cell_type": "code",
   "execution_count": null,
   "metadata": {},
   "outputs": [],
   "source": [
    "def rand():\n",
    "    return str(uuid.uuid4())[:8]"
   ]
  },
  {
   "cell_type": "code",
   "execution_count": null,
   "metadata": {},
   "outputs": [],
   "source": [
    "def random_color():\n",
    "    return (random.randint(1,255),random.randint(1,255),random.randint(1,255))"
   ]
  },
  {
   "cell_type": "code",
   "execution_count": null,
   "metadata": {},
   "outputs": [],
   "source": [
    "def hex_color(color):\n",
    "    return '#%02x%02x%02x' % color"
   ]
  },
  {
   "cell_type": "code",
   "execution_count": null,
   "metadata": {},
   "outputs": [],
   "source": [
    "def download_image(url, display_image=False):\n",
    "    file_name = \"/tmp/img{0}.{1}\".format(rand(),url.split(\".\")[-1])   \n",
    "    subprocess.call([\"wget\",\"-O\",file_name,url])\n",
    "    if display_image==True:\n",
    "        display(Image(file_name, width=400))\n",
    "    return file_name"
   ]
  },
  {
   "cell_type": "code",
   "execution_count": null,
   "metadata": {},
   "outputs": [],
   "source": [
    "def download_s3_image(bucket, key, display_image=False):\n",
    "    file_name = \"/tmp/img{0}.{1}\".format(rand(),key.split(\".\")[-1])\n",
    "    s3 = boto3.client('s3', region)\n",
    "    s3.download_file(bucket, key, file_name)\n",
    "    if display_image==True:\n",
    "        display(Image(file_name, width=400))\n",
    "    return file_name"
   ]
  },
  {
   "cell_type": "code",
   "execution_count": null,
   "metadata": {},
   "outputs": [],
   "source": [
    "def bounding_box(bbox, size):\n",
    "    if len(bbox) != 4:\n",
    "        return None\n",
    "    return [ \n",
    "        bbox['Left'] * size[0], bbox['Top'] * size[1],\n",
    "        (bbox['Left'] * size[0]) + bbox['Width'] * size[0], \n",
    "        (bbox['Top'] * size[1]) + bbox['Height'] * size[1]\n",
    "    ]"
   ]
  },
  {
   "cell_type": "code",
   "execution_count": null,
   "metadata": {},
   "outputs": [],
   "source": [
    "def draw_bounding_box(file_name, bbox_response, fill_color='yellow', display_image=False):    \n",
    "    img = PILimage.open(file_name)\n",
    "    bbox = bounding_box(bbox_response,img.size)\n",
    "\n",
    "    draw = ImageDraw.Draw(img)\n",
    "    draw.line([(bbox[0], bbox[1]), (bbox[2], bbox[1])], fill=fill_color, width=10)\n",
    "    draw.line([(bbox[2], bbox[1]), (bbox[2], bbox[3])], fill=fill_color, width=10)\n",
    "    draw.line([(bbox[2], bbox[3]), (bbox[0], bbox[3])], fill=fill_color, width=10)\n",
    "    draw.line([(bbox[0], bbox[1]), (bbox[0], bbox[3])], fill=fill_color, width=10)\n",
    "    \n",
    "    del draw\n",
    "\n",
    "    extension = os.path.basename(file_name).split(\".\")[1]\n",
    "    new_file = \"{}/{}.{}\".format(os.path.dirname(file_name), rand(), extension)    \n",
    "    \n",
    "    if extension.lower()==\"png\":\n",
    "        img_format = \"PNG\"\n",
    "    else:\n",
    "        img_format = \"JPEG\"\n",
    "        \n",
    "    img.save(new_file,img_format)\n",
    "    \n",
    "    if display_image == True:\n",
    "        display(Image(new_file, width=200))\n",
    "    \n",
    "    return new_file"
   ]
  },
  {
   "cell_type": "code",
   "execution_count": null,
   "metadata": {},
   "outputs": [],
   "source": [
    "def image2base64(filename):\n",
    "    with open(filename, \"rb\") as image_file:\n",
    "        encoded_string = base64.b64encode(image_file.read())\n",
    "    return encoded_string.decode(\"utf-8\")"
   ]
  },
  {
   "cell_type": "code",
   "execution_count": null,
   "metadata": {},
   "outputs": [],
   "source": [
    "def html_image(file_name, width=200):\n",
    "    extension = file_name.split('.')[1]\n",
    "    if extension.lower() == 'png':\n",
    "        mimetype = \"image/png\"\n",
    "    else:\n",
    "        mimetype = \"image/jpeg\"\n",
    "        \n",
    "    return '<img src=\"data:%s;base64,%s\" width=\"%spx\">' % (mimetype,image2base64(file_name),width)"
   ]
  },
  {
   "cell_type": "code",
   "execution_count": null,
   "metadata": {},
   "outputs": [],
   "source": [
    "def table(columns):\n",
    "    html_begin = \"<div style=margin-top:20px>\"\n",
    "    html_end = \"</div>\"\n",
    "    html = html_begin\n",
    "    \n",
    "    for column in columns:\n",
    "        style = 'float:left;margin-left:20px;'\n",
    "        width = 200\n",
    "        \n",
    "        if column['type'] == 'img' 'style' in column :\n",
    "            style = column['style']\n",
    "                        \n",
    "        row = '<div style=%s>' % (style)\n",
    "        \n",
    "        if 'header' in column:\n",
    "            header = '<div style=text-align:center;font-weight:bold;>%s</div>' % (column['header'])\n",
    "            row = ''.join([row,header])\n",
    "                \n",
    "        if column['type'] == 'img':\n",
    "            if 'width' in column:\n",
    "                width = column['width']                            \n",
    "            row = ''.join([row,html_image(column['file'],width=width)])                        \n",
    "        else:\n",
    "            if 'style' in column :\n",
    "                style = column['style']\n",
    "            rowdata = '<div style=\"%s\">%s</div>' % (style, column['data'])\n",
    "            row = ''.join([row,rowdata])\n",
    "        \n",
    "        if 'footer' in column:\n",
    "                footer = '<div>%s</div>' % (column['footer'])\n",
    "                row = ''.join([row,footer])\n",
    "                               \n",
    "        row= ''.join([row,'</div>'])\n",
    "            \n",
    "        html = ''.join([html,row])\n",
    "    \n",
    "    return ''.join([html,html_end])"
   ]
  },
  {
   "cell_type": "markdown",
   "metadata": {},
   "source": [
    "### Obtención de etiquetas de una imágen localizada en un bucket de S3"
   ]
  },
  {
   "cell_type": "code",
   "execution_count": null,
   "metadata": {},
   "outputs": [],
   "source": [
    "\n",
    "def detect_labels_S3(bucket, key, max_labels=20, min_confidence=80):\n",
    "    response = rekognition.detect_labels(\n",
    "        Image={\n",
    "            \"S3Object\": {\n",
    "                \"Bucket\": bucket,\n",
    "                \"Name\": key,\n",
    "            }\n",
    "        },\n",
    "        MaxLabels=max_labels,\n",
    "        MinConfidence=min_confidence,\n",
    "    )\n",
    "    \n",
    "    result_data = []\n",
    "    \n",
    "    image_file = download_s3_image(bucket, key)\n",
    "    for label in response['Labels']:        \n",
    "        color = random_color() if len(label['Instances']) > 0 else (0,0,0)\n",
    "        for instance in label['Instances']:\n",
    "            image_file = draw_bounding_box(image_file, instance[\"BoundingBox\"], color)\n",
    "        result_data.append(\"<span style='color:{}'><b>{}</b></span> - {}% \\n\".format(hex_color(color), \n",
    "                                                                                     label[\"Name\"], \n",
    "                                                                                     label[\"Confidence\"]))        \n",
    "            \n",
    "    result_data = ''.join(result_data)\n",
    "\n",
    "    columns = [\n",
    "        {\n",
    "            'type':'img',\n",
    "            'header':\"Source Image\",\n",
    "            'file':image_file,\n",
    "            'width':400\n",
    "        },\n",
    "        {\n",
    "            'type':'data',\n",
    "            'header':'Result',\n",
    "            'data':result_data,\n",
    "            'style':'white-space:pre-wrap;margin-top:10px'\n",
    "        }\n",
    "    ]\n",
    "\n",
    "    display(HTML(table(columns)))\n",
    "    "
   ]
  },
  {
   "cell_type": "code",
   "execution_count": null,
   "metadata": {
    "scrolled": true
   },
   "outputs": [],
   "source": [
    "detect_labels_S3(\"<bucket>\", \"<key>\")"
   ]
  },
  {
   "cell_type": "markdown",
   "metadata": {},
   "source": [
    "### Obtención de etiquetas de una imágen localizada en el file system local"
   ]
  },
  {
   "cell_type": "code",
   "execution_count": null,
   "metadata": {},
   "outputs": [],
   "source": [
    "def detect_labels(file_name, max_labels=20, min_confidence=80):\n",
    "    response = rekognition.detect_labels(\n",
    "        Image={'Bytes': load_image(file_name)},\n",
    "        MaxLabels=max_labels,\n",
    "        MinConfidence=min_confidence,\n",
    "    )\n",
    "\n",
    "    result_data = []\n",
    "    \n",
    "    for label in response['Labels']:        \n",
    "        color = random_color() if len(label['Instances']) > 0 else (0,0,0)\n",
    "        for instance in label['Instances']:\n",
    "            file_name = draw_bounding_box(file_name, instance[\"BoundingBox\"], color)\n",
    "        result_data.append(\"<span style='color:{}'><b>{}</b></span> - {}% \\n\".format(hex_color(color), \n",
    "                                                                                     label[\"Name\"], \n",
    "                                                                                     label[\"Confidence\"])) \n",
    "            \n",
    "    result_data = ''.join(result_data)\n",
    "\n",
    "    columns = [\n",
    "        {\n",
    "            'type':'img',\n",
    "            'header':\"Source Image\",\n",
    "            'file':file_name,\n",
    "            'width':400\n",
    "        },\n",
    "        {\n",
    "            'type':'data',\n",
    "            'header':'Result',\n",
    "            'data':result_data,\n",
    "            'style':'white-space:pre-wrap;margin-top:10px'\n",
    "        }\n",
    "    ]\n",
    "\n",
    "    display(HTML(table(columns)))\n"
   ]
  },
  {
   "cell_type": "code",
   "execution_count": null,
   "metadata": {},
   "outputs": [],
   "source": [
    "source_image = download_image(\"<url>\")    \n",
    "detect_labels(source_image, max_labels=20, min_confidence=70)"
   ]
  },
  {
   "cell_type": "markdown",
   "metadata": {},
   "source": [
    "### Detección de rostros en fotos - rekognition.detect_faces( )"
   ]
  },
  {
   "cell_type": "code",
   "execution_count": null,
   "metadata": {},
   "outputs": [],
   "source": [
    "def detect_faces(url):\n",
    "    file_name = download_image(url)\n",
    "    \n",
    "    response = rekognition.detect_faces(\n",
    "        Image={'Bytes': load_image(file_name)},\n",
    "        Attributes=['ALL'],\n",
    "    )\n",
    "\n",
    "    for face in response['FaceDetails']:\n",
    "        emotions_data = []\n",
    "        for emotion in face[\"Emotions\"]:\n",
    "            emotions_data.append(\"<b>{Type}</b> - {Confidence}% \\n\".format(**emotion))\n",
    "\n",
    "        emotions_data = ''.join(emotions_data)\n",
    "\n",
    "        result_data = [\"<b>Confidence</b>:  {Confidence}% \\n\".format(**face)]\n",
    "        result_data.append(\"<b>Age range</b>:  {AgeRange[Low]} - {AgeRange[High]} \\n\".format(**face))\n",
    "        result_data.append(\"<b>Smile</b>:  {Smile[Value]} \\n\".format(**face) )\n",
    "        result_data.append(\"<b>Eyeglasses</b>:  {Eyeglasses[Value]} \\n\".format(**face))\n",
    "        result_data.append(\"<b>Gender</b>:  {Gender[Value]} \\n\".format(**face))\n",
    "        result_data.append(\"<b>Beard</b>:  {Beard[Value]} \\n\".format(**face))\n",
    "        result_data.append(\"<b>Mustache</b>:  {Mustache[Value]} \\n\".format(**face))\n",
    "        result_data.append(\"<b>EyesOpen</b>:  {EyesOpen[Value]} \\n\".format(**face))\n",
    "        result_data.append(\"<b>Mouth open</b>:  {MouthOpen[Value]} \\n\".format(**face))    \n",
    "        result_data = ''.join(result_data)\n",
    "\n",
    "        columns = [\n",
    "            {\n",
    "                'type':'img',\n",
    "                'header':\"Source Face\",\n",
    "                'file':draw_bounding_box(file_name,face[\"BoundingBox\"])\n",
    "            },\n",
    "            {\n",
    "                'type':'data',\n",
    "                'header':'Result',\n",
    "                'data':result_data,\n",
    "                'style':'white-space:pre-wrap;margin-top:20px'\n",
    "            },\n",
    "            {\n",
    "                'type':'data',\n",
    "                'data':emotions_data,\n",
    "                'style':'white-space:pre-wrap;margin-top:40px'\n",
    "            }\n",
    "        ]\n",
    "\n",
    "        display(HTML(table(columns)))"
   ]
  },
  {
   "cell_type": "code",
   "execution_count": null,
   "metadata": {},
   "outputs": [],
   "source": [
    "detect_faces(\"<url>\")"
   ]
  },
  {
   "cell_type": "markdown",
   "metadata": {},
   "source": [
    "### Comparación de rostros de dos fotos - rekognition.compare_faces( )"
   ]
  },
  {
   "cell_type": "code",
   "execution_count": null,
   "metadata": {},
   "outputs": [],
   "source": [
    "def compare_faces(source_url, target_url, threshold=80):\n",
    "    source_image = download_image(source_url)\n",
    "    target_image = download_image(target_url)\n",
    "    \n",
    "    response = rekognition.compare_faces(\n",
    "        SourceImage={\n",
    "            'Bytes': load_image(source_image)\n",
    "        },\n",
    "        TargetImage={\n",
    "            'Bytes': load_image(target_image)\n",
    "        },\n",
    "        SimilarityThreshold=threshold,\n",
    "    )\n",
    "\n",
    "    source_face = response['SourceImageFace']\n",
    "\n",
    "    for match in response['FaceMatches']:\n",
    "        columns = [{\n",
    "            'type':'img',\n",
    "            'header':\"Source Face\",\n",
    "            'file':draw_bounding_box(source_image,source_face[\"BoundingBox\"]),\n",
    "            'footer':''.join([\"Confidence: \",str(round(source_face['Confidence'],4)),\"%\"])\n",
    "        }]\n",
    "\n",
    "        columns.append({\n",
    "            'type':'img',\n",
    "            'header':\"Target Face\",\n",
    "            'file':draw_bounding_box(target_image,match['Face']['BoundingBox']),\n",
    "            'footer':''.join(['Confidence: ',str(round(match['Face']['Confidence'],4)),\"%\"])\n",
    "        })\n",
    "\n",
    "        columns.append({\n",
    "            'type':'data',\n",
    "            'header':'Result',\n",
    "            'data':''.join(['Similarity: ',str(match['Similarity']),\"%\"]),\n",
    "            'style':'padding-top:60px'\n",
    "        })\n",
    "\n",
    "        display(HTML(table(columns)))"
   ]
  },
  {
   "cell_type": "code",
   "execution_count": null,
   "metadata": {},
   "outputs": [],
   "source": [
    "source_url = \"<url>\"\n",
    "target_url = \"<url>\"\n",
    "compare_faces(source_url, target_url)"
   ]
  },
  {
   "cell_type": "markdown",
   "metadata": {},
   "source": [
    "### Creación de una colección para indexar fotos - rekognition.create_collection( )"
   ]
  },
  {
   "cell_type": "code",
   "execution_count": null,
   "metadata": {},
   "outputs": [],
   "source": [
    "\n",
    "collection_id = \"my-collection-{0}\".format(rand())\n",
    "\n",
    "rekognition.create_collection(CollectionId=collection_id)"
   ]
  },
  {
   "cell_type": "markdown",
   "metadata": {},
   "source": [
    "### Indexación de fotos - rekognition.index_faces( )"
   ]
  },
  {
   "cell_type": "code",
   "execution_count": null,
   "metadata": {},
   "outputs": [],
   "source": [
    "def index_faces(source_url, collection_id):\n",
    "    source_image = download_image(source_url)\n",
    "    image_id = source_image.split(\"/\")[-1]\n",
    "    \n",
    "    response = rekognition.index_faces(\n",
    "        Image={\n",
    "            'Bytes': load_image(source_image)\n",
    "        },\n",
    "        CollectionId=collection_id,\n",
    "        ExternalImageId=image_id,\n",
    "        DetectionAttributes=['ALL'],\n",
    "    )\n",
    "\n",
    "    for record in response['FaceRecords']:\n",
    "        face = record['Face']\n",
    "        details = record['FaceDetail']\n",
    "\n",
    "\n",
    "        emotions_data = []\n",
    "        for emotion in details[\"Emotions\"]:\n",
    "            emotions_data.append(\"<b>{Type}</b> - {Confidence}% \\n\".format(**emotion))\n",
    "\n",
    "        emotions_data.append('\\n\\n<b>Face id</b>:\\n{FaceId}\\n<b>External image id</b>:\\n{ExternalImageId}'.format(**face))\n",
    "        emotions_data = ''.join(emotions_data)\n",
    "\n",
    "        result_data = [\"<b>Confidence</b>:  {Confidence}% \\n\".format(**details)]\n",
    "        result_data.append(\"<b>Age range</b>:  {AgeRange[Low]} - {AgeRange[High]} \\n\".format(**details))\n",
    "        result_data.append(\"<b>Smile</b>:  {Smile[Value]} \\n\".format(**details) )\n",
    "        result_data.append(\"<b>Eyeglasses</b>:  {Eyeglasses[Value]} \\n\".format(**details))\n",
    "        result_data.append(\"<b>Gender</b>:  {Gender[Value]} \\n\".format(**details))\n",
    "        result_data.append(\"<b>Beard</b>:  {Beard[Value]} \\n\".format(**details))\n",
    "        result_data.append(\"<b>Mustache</b>:  {Mustache[Value]} \\n\".format(**details))\n",
    "        result_data.append(\"<b>EyesOpen</b>:  {EyesOpen[Value]} \\n\".format(**details))\n",
    "        result_data.append(\"<b>Mouth open</b>:  {MouthOpen[Value]} \\n\".format(**details))      \n",
    "        result_data = ''.join(result_data)\n",
    "\n",
    "        columns = [\n",
    "            {\n",
    "                'type':'img',\n",
    "                'header':'Source Face',\n",
    "                'file':draw_bounding_box(source_image,face[\"BoundingBox\"])\n",
    "            },\n",
    "            {\n",
    "                'type':'data',\n",
    "                'header':'Result',\n",
    "                'data':result_data,\n",
    "                'style':'white-space:pre-wrap;margin-top:20px'\n",
    "            },\n",
    "            {\n",
    "                'type':'data',\n",
    "                'data':emotions_data,\n",
    "                'style':'white-space:pre-wrap;margin-top:40px'\n",
    "            }\n",
    "        ]\n",
    "\n",
    "        display(HTML(table(columns)))"
   ]
  },
  {
   "cell_type": "code",
   "execution_count": null,
   "metadata": {},
   "outputs": [],
   "source": [
    "index_faces(\"<url>\", collection_id)"
   ]
  },
  {
   "cell_type": "code",
   "execution_count": null,
   "metadata": {},
   "outputs": [],
   "source": [
    "index_faces(\"<url>\", collection_id)"
   ]
  },
  {
   "cell_type": "code",
   "execution_count": null,
   "metadata": {},
   "outputs": [],
   "source": [
    "collection_faces = rekognition.list_faces(CollectionId=collection_id)\n",
    "display(collection_faces)"
   ]
  },
  {
   "cell_type": "code",
   "execution_count": null,
   "metadata": {},
   "outputs": [],
   "source": [
    "display(\"Number of images indexed: {0}\".format(len(collection_faces['Faces'])))"
   ]
  },
  {
   "cell_type": "markdown",
   "metadata": {},
   "source": [
    "### Búsqueda de rostros similares a una foto - rekognition.search_faces_by_image( )"
   ]
  },
  {
   "cell_type": "code",
   "execution_count": null,
   "metadata": {},
   "outputs": [],
   "source": [
    "def search_faces_by_image(source_url, collection_id, threshold=80):\n",
    "    source_image = download_image(source_url)\n",
    "    \n",
    "    response = rekognition.search_faces_by_image(\n",
    "        Image={\n",
    "            'Bytes': load_image(source_image)\n",
    "        },\n",
    "        CollectionId=collection_id,\n",
    "        FaceMatchThreshold=threshold,\n",
    "    )\n",
    "   \n",
    "    for record in response['FaceMatches']:\n",
    "        face = record['Face']\n",
    "        \n",
    "        result_data = [\"<b>Similarity</b>:  {Similarity}% \\n\".format(**record)]\n",
    "        result_data.append(\"<b>Face Id</b>:  {FaceId} \\n\".format(**face))\n",
    "        result_data.append(\"<b>Image Id</b>:  {ImageId} \\n\".format(**face) )\n",
    "        result_data.append(\"<b>External Image Id</b>:  {ExternalImageId} \\n\".format(**face))\n",
    "        result_data.append(\"<b>Confidence</b>:  {Confidence} \\n\".format(**face))  \n",
    "        result_data = ''.join(result_data)\n",
    "\n",
    "        columns = [\n",
    "            {\n",
    "                'type':'img',\n",
    "                'header':'Source Face',\n",
    "                'file':draw_bounding_box(source_image,response[\"SearchedFaceBoundingBox\"]),\n",
    "                'footer':'<b>Confidence</b>: {SearchedFaceConfidence}'.format(**response)\n",
    "            },\n",
    "            {\n",
    "                'type':'img',\n",
    "                'header':'Found Face',\n",
    "                'file':draw_bounding_box('/tmp/{ExternalImageId}'.format(**face),face[\"BoundingBox\"]),\n",
    "                'footer':'<b>Confidence</b>: {SearchedFaceConfidence}'.format(**response)\n",
    "            },\n",
    "            {\n",
    "                'type':'data',\n",
    "                'header':'Result',\n",
    "                'data':result_data,\n",
    "                'style':'white-space:pre-wrap;margin-top:20px'\n",
    "            }\n",
    "        ]\n",
    "\n",
    "        display(HTML(table(columns)))\n"
   ]
  },
  {
   "cell_type": "code",
   "execution_count": null,
   "metadata": {},
   "outputs": [],
   "source": [
    "image_url = \"<url>\"\n",
    "\n",
    "display(Markdown(\"### Busqueda con treshold de 80\"))          \n",
    "search_faces_by_image(image_url,collection_id, threshold=80)"
   ]
  },
  {
   "cell_type": "markdown",
   "metadata": {},
   "source": [
    "### Reconocimiento de celebridades - rekognition.recognize_celebrities( )"
   ]
  },
  {
   "cell_type": "code",
   "execution_count": null,
   "metadata": {},
   "outputs": [],
   "source": [
    "def recognize_celebrities(image_url):\n",
    "    file_name = download_image(image_url)\n",
    "    response = rekognition.recognize_celebrities(\n",
    "        Image={'Bytes': load_image(file_name)}\n",
    "    )\n",
    "    \n",
    "    for celebrityFace in response['CelebrityFaces']: \n",
    "        face = celebrityFace[\"Face\"]\n",
    "        \n",
    "        result_data = []\n",
    "        result_data.append(\"<b>Match Confidence</b> - {MatchConfidence}% \\n\".format(**celebrityFace))\n",
    "        result_data.append(\"<b>Name</b> - {Name} \\n\".format(**celebrityFace))\n",
    "        result_data.append(\"<b>URLs</b>:\\n\")        \n",
    "        \n",
    "        urls_data = []\n",
    "        for url in celebrityFace[\"Urls\"]:\n",
    "            urls_data.append('<a href=\"http://{0}\">{0}</a> \\n'.format(url))\n",
    "        \n",
    "        urls_data = ''.join(urls_data)\n",
    "        result_data.append(urls_data)\n",
    "        \n",
    "        result_data = ''.join(result_data)\n",
    "\n",
    "        columns = [\n",
    "            {\n",
    "                'type':'img',\n",
    "                'header':\"Source Image\",\n",
    "                'file':draw_bounding_box(file_name,face[\"BoundingBox\"]),\n",
    "                'footer':'<b>Confidence</b>: {Confidence}'.format(**face),\n",
    "                'width':400\n",
    "            },\n",
    "            {\n",
    "                'type':'data',\n",
    "                'header':'Result',\n",
    "                'data':result_data,\n",
    "                'style':'white-space:pre-wrap;margin-top:10px'\n",
    "            }\n",
    "        ]\n",
    "\n",
    "        display(HTML(table(columns)))\n",
    "        "
   ]
  },
  {
   "cell_type": "code",
   "execution_count": null,
   "metadata": {},
   "outputs": [],
   "source": [
    "recognize_celebrities(\"<url>\")"
   ]
  },
  {
   "cell_type": "code",
   "execution_count": null,
   "metadata": {},
   "outputs": [],
   "source": [
    "recognize_celebrities(\"<url>\")"
   ]
  },
  {
   "cell_type": "markdown",
   "metadata": {},
   "source": [
    "### Identificación de texto en imágenes - rekognition.detect_text( )"
   ]
  },
  {
   "cell_type": "code",
   "execution_count": null,
   "metadata": {},
   "outputs": [],
   "source": [
    "def detect_text(url):\n",
    "    file_name = download_image(url)\n",
    "    \n",
    "    response = rekognition.detect_text(\n",
    "        Image={'Bytes': load_image(file_name)}\n",
    "    )\n",
    "    \n",
    "    for text in response['TextDetections']: \n",
    "        \n",
    "        result_data = []\n",
    "        result_data.append(\"<b>Confidence</b> - {Confidence}% \\n\".format(**text))\n",
    "        result_data.append(\"<b>Detected text</b> - {DetectedText} \\n\".format(**text))\n",
    "        result_data.append(\"<b>Type</b> - {Type} \\n\".format(**text))        \n",
    "        result_data.append(\"<b>Id</b> - {Id} \\n\".format(**text))    \n",
    "        if 'ParentId' in text:\n",
    "            result_data.append(\"<b>Parent Id</b> - {ParentId} \\n\".format(**text))        \n",
    "        \n",
    "        result_data = ''.join(result_data)\n",
    "\n",
    "        columns = [\n",
    "            {\n",
    "                'type':'img',\n",
    "                'header':\"Source Image\",\n",
    "                'file':draw_bounding_box(file_name,text['Geometry']['BoundingBox']),\n",
    "                'width':400\n",
    "            },\n",
    "            {\n",
    "                'type':'data',\n",
    "                'header':'Result',\n",
    "                'data':result_data,\n",
    "                'style':'white-space:pre-wrap;margin-top:10px'\n",
    "            }\n",
    "        ]\n",
    "\n",
    "        display(HTML(table(columns)))\n",
    "        "
   ]
  },
  {
   "cell_type": "code",
   "execution_count": null,
   "metadata": {},
   "outputs": [],
   "source": [
    "detect_text(\"<url>\")"
   ]
  },
  {
   "cell_type": "markdown",
   "metadata": {},
   "source": [
    "### Limpieza :)"
   ]
  },
  {
   "cell_type": "code",
   "execution_count": null,
   "metadata": {},
   "outputs": [],
   "source": [
    "!rm -f /tmp/*"
   ]
  },
  {
   "cell_type": "code",
   "execution_count": null,
   "metadata": {},
   "outputs": [],
   "source": [
    "response = rekognition.list_collections()\n",
    "for collectionId in response['CollectionIds']:\n",
    "    rekognition.delete_collection(CollectionId=collectionId)"
   ]
  },
  {
   "cell_type": "code",
   "execution_count": null,
   "metadata": {},
   "outputs": [],
   "source": []
  }
 ],
 "metadata": {
  "kernelspec": {
   "display_name": "conda_python3",
   "language": "python",
   "name": "conda_python3"
  },
  "language_info": {
   "codemirror_mode": {
    "name": "ipython",
    "version": 3
   },
   "file_extension": ".py",
   "mimetype": "text/x-python",
   "name": "python",
   "nbconvert_exporter": "python",
   "pygments_lexer": "ipython3",
   "version": "3.6.5"
  }
 },
 "nbformat": 4,
 "nbformat_minor": 2
}
