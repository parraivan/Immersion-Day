{
 "cells": [
  {
   "cell_type": "code",
   "execution_count": 99,
   "metadata": {},
   "outputs": [],
   "source": [
    "from __future__ import print_function\n",
    "import numpy as np\n",
    "import mxnet as mx\n",
    "import random\n",
    "from mxnet import nd, autograd, gluon\n",
    "import matplotlib.pyplot as plt"
   ]
  },
  {
   "cell_type": "markdown",
   "metadata": {},
   "source": [
    "### Set a fixed random seed for reproducibility"
   ]
  },
  {
   "cell_type": "code",
   "execution_count": 100,
   "metadata": {},
   "outputs": [],
   "source": [
    "mx.random.seed(1)"
   ]
  },
  {
   "cell_type": "markdown",
   "metadata": {},
   "source": [
    "### Set context"
   ]
  },
  {
   "cell_type": "code",
   "execution_count": 101,
   "metadata": {},
   "outputs": [],
   "source": [
    "# ctx = mx.gpu()\n",
    "ctx = mx.cpu()"
   ]
  },
  {
   "cell_type": "markdown",
   "metadata": {},
   "source": [
    "### Load dataset"
   ]
  },
  {
   "cell_type": "markdown",
   "metadata": {},
   "source": [
    "Moves the channel axis of the images to the beginning ((28, 28, 1) -> (1, 28, 28)), casts them to float32 and rescales them from [0, 255] to [0, 1]"
   ]
  },
  {
   "cell_type": "code",
   "execution_count": 116,
   "metadata": {},
   "outputs": [],
   "source": [
    "batch_size = 64\n",
    "def transform(data, label):\n",
    "    return nd.transpose(data.astype(np.float32), (2,0,1))/255, label.astype(np.float32)\n",
    "train_data = gluon.data.DataLoader(gluon.data.vision.MNIST(train=True, transform=transform),\n",
    "                                      batch_size, shuffle=True)\n",
    "test_data = gluon.data.DataLoader(gluon.data.vision.MNIST(train=False, transform=transform),\n",
    "                                     batch_size, shuffle=False)"
   ]
  },
  {
   "cell_type": "markdown",
   "metadata": {},
   "source": [
    "### Define Neural Network"
   ]
  },
  {
   "cell_type": "code",
   "execution_count": 103,
   "metadata": {},
   "outputs": [],
   "source": [
    "num_fc = 512\n",
    "num_outputs = 10\n",
    "net = gluon.nn.Sequential()\n",
    "with net.name_scope():\n",
    "    net.add(gluon.nn.Conv2D(channels=20, kernel_size=5, activation='relu'))\n",
    "    net.add(gluon.nn.MaxPool2D(pool_size=2, strides=2))\n",
    "    net.add(gluon.nn.Conv2D(channels=50, kernel_size=5, activation='relu'))\n",
    "    net.add(gluon.nn.MaxPool2D(pool_size=2, strides=2))\n",
    "    net.add(gluon.nn.Flatten())\n",
    "    net.add(gluon.nn.Dense(num_fc, activation=\"relu\"))\n",
    "    net.add(gluon.nn.Dense(num_outputs))"
   ]
  },
  {
   "cell_type": "markdown",
   "metadata": {},
   "source": [
    "### Parameters initialization"
   ]
  },
  {
   "cell_type": "code",
   "execution_count": 105,
   "metadata": {},
   "outputs": [],
   "source": [
    "net.initialize(mx.init.Xavier(), ctx=ctx)"
   ]
  },
  {
   "cell_type": "markdown",
   "metadata": {},
   "source": [
    "### Define loss function - Softmax cross-entropy Loss"
   ]
  },
  {
   "cell_type": "code",
   "execution_count": 106,
   "metadata": {},
   "outputs": [],
   "source": [
    "softmax_cross_entropy = gluon.loss.SoftmaxCrossEntropyLoss()"
   ]
  },
  {
   "cell_type": "markdown",
   "metadata": {},
   "source": [
    "### Define optimizer"
   ]
  },
  {
   "cell_type": "code",
   "execution_count": 107,
   "metadata": {},
   "outputs": [],
   "source": [
    "trainer = gluon.Trainer(net.collect_params(), 'sgd', {'learning_rate': .1})"
   ]
  },
  {
   "cell_type": "markdown",
   "metadata": {},
   "source": [
    "### Define function to calculate accuracy"
   ]
  },
  {
   "cell_type": "code",
   "execution_count": 108,
   "metadata": {},
   "outputs": [],
   "source": [
    "def evaluate_accuracy(data_iterator, net):\n",
    "    acc = mx.metric.Accuracy()\n",
    "    for i, (data, label) in enumerate(data_iterator):\n",
    "        data = data.as_in_context(ctx)\n",
    "        label = label.as_in_context(ctx)\n",
    "        output = net(data)\n",
    "        predictions = nd.argmax(output, axis=1)\n",
    "        acc.update(preds=predictions, labels=label)\n",
    "    return acc.get()[1]"
   ]
  },
  {
   "cell_type": "markdown",
   "metadata": {},
   "source": [
    "### Training loop"
   ]
  },
  {
   "cell_type": "code",
   "execution_count": 109,
   "metadata": {},
   "outputs": [
    {
     "name": "stdout",
     "output_type": "stream",
     "text": [
      "Epoch 0. Loss: 0.0715804727016, Train_acc 0.982616666667, Test_acc 0.9834\n",
      "Epoch 1. Loss: 0.0458128190572, Train_acc 0.988633333333, Test_acc 0.9879\n",
      "Epoch 2. Loss: 0.0387811447233, Train_acc 0.988983333333, Test_acc 0.9856\n",
      "Epoch 3. Loss: 0.0278010737271, Train_acc 0.9911, Test_acc 0.9878\n",
      "Epoch 4. Loss: 0.0200407971009, Train_acc 0.995083333333, Test_acc 0.9902\n",
      "Epoch 5. Loss: 0.0163074120612, Train_acc 0.996816666667, Test_acc 0.9896\n",
      "Epoch 6. Loss: 0.0143090156682, Train_acc 0.98145, Test_acc 0.9788\n",
      "Epoch 7. Loss: 0.0121033654296, Train_acc 0.99765, Test_acc 0.9908\n",
      "Epoch 8. Loss: 0.00932520198419, Train_acc 0.99855, Test_acc 0.9909\n",
      "Epoch 9. Loss: 0.00632960812258, Train_acc 0.997583333333, Test_acc 0.9888\n",
      "Epoch 10. Loss: 0.00500207358104, Train_acc 0.997666666667, Test_acc 0.9906\n",
      "Epoch 11. Loss: 0.0033192330278, Train_acc 0.999516666667, Test_acc 0.9917\n",
      "Epoch 12. Loss: 0.00294198139289, Train_acc 0.999683333333, Test_acc 0.9914\n",
      "Epoch 13. Loss: 0.00231714500567, Train_acc 0.999766666667, Test_acc 0.9914\n",
      "Epoch 14. Loss: 0.00320380156588, Train_acc 0.999216666667, Test_acc 0.991\n"
     ]
    }
   ],
   "source": [
    "epochs = 15\n",
    "\n",
    "for e in range(epochs):\n",
    "    for i, (data, label) in enumerate(train_data):\n",
    "        data = data.as_in_context(ctx)\n",
    "        label = label.as_in_context(ctx)\n",
    "        with autograd.record():\n",
    "            output = net(data)\n",
    "            loss = softmax_cross_entropy(output, label)\n",
    "        loss.backward()\n",
    "        trainer.step(data.shape[0])\n",
    "\n",
    "        ##########################\n",
    "        #  Keep a moving average of the losses\n",
    "        ##########################\n",
    "        smoothing_constant = .01\n",
    "        curr_loss = nd.mean(loss).asscalar()\n",
    "        moving_loss = (curr_loss if ((i == 0) and (e == 0))\n",
    "                       else (1 - smoothing_constant) * moving_loss + smoothing_constant * curr_loss)\n",
    "\n",
    "    test_accuracy = evaluate_accuracy(test_data, net)\n",
    "    train_accuracy = evaluate_accuracy(train_data, net)\n",
    "    print(\"Epoch %s. Loss: %s, Train_acc %s, Test_acc %s\" % (e, moving_loss, train_accuracy, test_accuracy))"
   ]
  },
  {
   "cell_type": "markdown",
   "metadata": {},
   "source": [
    "## Inference"
   ]
  },
  {
   "cell_type": "markdown",
   "metadata": {},
   "source": [
    "#### Select k random samples from a given dataset "
   ]
  },
  {
   "cell_type": "code",
   "execution_count": 110,
   "metadata": {},
   "outputs": [],
   "source": [
    "def select_k_random_elements_from(collection_iterator, k):\n",
    "    result = {}\n",
    "    n = 0\n",
    "\n",
    "    for item in collection_iterator:\n",
    "        n += 1\n",
    "        if len(result) < k:\n",
    "            result[n - 1] = item\n",
    "        else:\n",
    "            selected_index = int(random.random() * n)\n",
    "            if selected_index < k:\n",
    "                result[selected_index] = item\n",
    "    return result.values()\n",
    "\n",
    "random_sample = select_k_random_elements_from(test_data, 2)"
   ]
  },
  {
   "cell_type": "markdown",
   "metadata": {},
   "source": [
    "#### Iterate through the samples to get predictions and plot them"
   ]
  },
  {
   "cell_type": "code",
   "execution_count": 113,
   "metadata": {},
   "outputs": [
    {
     "data": {
      "image/png": "[encoded data removed]",
      "text/plain": [
       "<Figure size 1296x288 with 10 Axes>"
      ]
     },
     "metadata": {},
     "output_type": "display_data"
    }
   ],
   "source": [
    "sample_size = 10\n",
    "fig, axs = plt.subplots(ncols=sample_size)\n",
    "fig.set_size_inches(18, 4)\n",
    "for ax, (image, label) in zip(axs, select_k_random_elements_from(test_data, sample_size)):\n",
    "    image = image.as_in_context(ctx)\n",
    "    label = label.as_in_context(ctx)\n",
    "    output = net(image)\n",
    "    \n",
    "    # Predicted label is the index where the output is maximal\n",
    "    prediction = nd.argmax(output, axis=1)\n",
    "    \n",
    "    for image, prediction, label in zip(image, prediction, label):\n",
    "        image, prediction, label = image.asnumpy(), int(prediction.asscalar()), int(label.asscalar())\n",
    "        ax.imshow(image[0], cmap=\"gray\")\n",
    "        ax.set_title(\"Predicted: {}\\nActual: {}\".format(prediction, label))\n",
    "        ax.xaxis.set_visible(False)\n",
    "        ax.yaxis.set_visible(False)"
   ]
  },
  {
   "cell_type": "markdown",
   "metadata": {},
   "source": [
    "### Visual Intuition\n",
    "http://scs.ryerson.ca/~aharley/vis/conv/flat.html"
   ]
  },
  {
   "cell_type": "code",
   "execution_count": null,
   "metadata": {},
   "outputs": [],
   "source": []
  }
 ],
 "metadata": {
  "kernelspec": {
   "display_name": "conda_mxnet_p36",
   "language": "python",
   "name": "conda_mxnet_p36"
  },
  "language_info": {
   "codemirror_mode": {
    "name": "ipython",
    "version": 3
   },
   "file_extension": ".py",
   "mimetype": "text/x-python",
   "name": "python",
   "nbconvert_exporter": "python",
   "pygments_lexer": "ipython3",
   "version": "3.6.5"
  }
 },
 "nbformat": 4,
 "nbformat_minor": 2
}
